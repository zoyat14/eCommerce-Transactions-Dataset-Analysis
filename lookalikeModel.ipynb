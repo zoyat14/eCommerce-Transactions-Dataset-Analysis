{
 "cells": [
  {
   "cell_type": "code",
   "execution_count": 50,
   "id": "afe2db44-ea44-460f-86e5-f4cb3bfafb13",
   "metadata": {},
   "outputs": [],
   "source": [
    "import pandas as pd\n",
    "from sklearn.metrics.pairwise import cosine_similarity\n",
    "from sklearn.preprocessing import StandardScaler\n",
    "from sklearn.metrics import precision_score, recall_score, f1_score, mean_squared_error\n",
    "import numpy as np"
   ]
  },
  {
   "cell_type": "code",
   "execution_count": 4,
   "id": "295f2242-ed81-4156-8718-7f7779661777",
   "metadata": {},
   "outputs": [],
   "source": [
    "# Loading the datasets\n",
    "customers_df = pd.read_csv('Customers.csv')\n",
    "products_df = pd.read_csv('Products.csv')\n",
    "transactions_df = pd.read_csv('Transactions.csv')"
   ]
  },
  {
   "cell_type": "code",
   "execution_count": 6,
   "id": "89143fa5-b073-40bd-b716-e032dee8ca32",
   "metadata": {},
   "outputs": [],
   "source": [
    "# Merging datasets to create a comprehensive dataset\n",
    "transactions_customers = pd.merge(transactions_df, customers_df, on='CustomerID')\n",
    "merged_data = pd.merge(transactions_customers, products_df, on='ProductID')"
   ]
  },
  {
   "cell_type": "code",
   "execution_count": 30,
   "id": "e1b6ec70-0d5d-46e1-ac6d-ffce4234e221",
   "metadata": {},
   "outputs": [
    {
     "data": {
      "text/html": [
       "<div>\n",
       "<style scoped>\n",
       "    .dataframe tbody tr th:only-of-type {\n",
       "        vertical-align: middle;\n",
       "    }\n",
       "\n",
       "    .dataframe tbody tr th {\n",
       "        vertical-align: top;\n",
       "    }\n",
       "\n",
       "    .dataframe thead th {\n",
       "        text-align: right;\n",
       "    }\n",
       "</style>\n",
       "<table border=\"1\" class=\"dataframe\">\n",
       "  <thead>\n",
       "    <tr style=\"text-align: right;\">\n",
       "      <th></th>\n",
       "      <th>CustomerID</th>\n",
       "      <th>TotalValue</th>\n",
       "      <th>Quantity</th>\n",
       "      <th>Category</th>\n",
       "      <th>Region</th>\n",
       "    </tr>\n",
       "  </thead>\n",
       "  <tbody>\n",
       "    <tr>\n",
       "      <th>0</th>\n",
       "      <td>C0001</td>\n",
       "      <td>3354.52</td>\n",
       "      <td>12</td>\n",
       "      <td>Electronics</td>\n",
       "      <td>South America</td>\n",
       "    </tr>\n",
       "    <tr>\n",
       "      <th>1</th>\n",
       "      <td>C0002</td>\n",
       "      <td>1862.74</td>\n",
       "      <td>10</td>\n",
       "      <td>Clothing</td>\n",
       "      <td>Asia</td>\n",
       "    </tr>\n",
       "    <tr>\n",
       "      <th>2</th>\n",
       "      <td>C0003</td>\n",
       "      <td>2725.38</td>\n",
       "      <td>14</td>\n",
       "      <td>Home Decor</td>\n",
       "      <td>South America</td>\n",
       "    </tr>\n",
       "    <tr>\n",
       "      <th>3</th>\n",
       "      <td>C0004</td>\n",
       "      <td>5354.88</td>\n",
       "      <td>23</td>\n",
       "      <td>Books</td>\n",
       "      <td>South America</td>\n",
       "    </tr>\n",
       "    <tr>\n",
       "      <th>4</th>\n",
       "      <td>C0005</td>\n",
       "      <td>2034.24</td>\n",
       "      <td>7</td>\n",
       "      <td>Electronics</td>\n",
       "      <td>Asia</td>\n",
       "    </tr>\n",
       "  </tbody>\n",
       "</table>\n",
       "</div>"
      ],
      "text/plain": [
       "  CustomerID  TotalValue  Quantity     Category         Region\n",
       "0      C0001     3354.52        12  Electronics  South America\n",
       "1      C0002     1862.74        10     Clothing           Asia\n",
       "2      C0003     2725.38        14   Home Decor  South America\n",
       "3      C0004     5354.88        23        Books  South America\n",
       "4      C0005     2034.24         7  Electronics           Asia"
      ]
     },
     "execution_count": 30,
     "metadata": {},
     "output_type": "execute_result"
    }
   ],
   "source": [
    "# Aggregating data to create customer-level features\n",
    "customer_features = merged_data.groupby('CustomerID').agg({\n",
    "    'TotalValue': 'sum',               # Total spending\n",
    "    'Quantity': 'sum',                 # Total quantity purchased\n",
    "    'Category': lambda x: x.mode()[0],  # Most frequently purchased category\n",
    "    'Region': 'first'                  # Customer's region\n",
    "}).reset_index()\n",
    "\n",
    "customer_features.head()"
   ]
  },
  {
   "cell_type": "code",
   "execution_count": 32,
   "id": "1d13c286-3c63-4ce5-be02-5a22b0f64af5",
   "metadata": {},
   "outputs": [
    {
     "data": {
      "text/html": [
       "<div>\n",
       "<style scoped>\n",
       "    .dataframe tbody tr th:only-of-type {\n",
       "        vertical-align: middle;\n",
       "    }\n",
       "\n",
       "    .dataframe tbody tr th {\n",
       "        vertical-align: top;\n",
       "    }\n",
       "\n",
       "    .dataframe thead th {\n",
       "        text-align: right;\n",
       "    }\n",
       "</style>\n",
       "<table border=\"1\" class=\"dataframe\">\n",
       "  <thead>\n",
       "    <tr style=\"text-align: right;\">\n",
       "      <th></th>\n",
       "      <th>CustomerID</th>\n",
       "      <th>TotalValue</th>\n",
       "      <th>Quantity</th>\n",
       "      <th>Region_Europe</th>\n",
       "      <th>Region_North America</th>\n",
       "      <th>Region_South America</th>\n",
       "      <th>Category_Clothing</th>\n",
       "      <th>Category_Electronics</th>\n",
       "      <th>Category_Home Decor</th>\n",
       "    </tr>\n",
       "  </thead>\n",
       "  <tbody>\n",
       "    <tr>\n",
       "      <th>0</th>\n",
       "      <td>C0001</td>\n",
       "      <td>3354.52</td>\n",
       "      <td>12</td>\n",
       "      <td>False</td>\n",
       "      <td>False</td>\n",
       "      <td>True</td>\n",
       "      <td>False</td>\n",
       "      <td>True</td>\n",
       "      <td>False</td>\n",
       "    </tr>\n",
       "    <tr>\n",
       "      <th>1</th>\n",
       "      <td>C0002</td>\n",
       "      <td>1862.74</td>\n",
       "      <td>10</td>\n",
       "      <td>False</td>\n",
       "      <td>False</td>\n",
       "      <td>False</td>\n",
       "      <td>True</td>\n",
       "      <td>False</td>\n",
       "      <td>False</td>\n",
       "    </tr>\n",
       "    <tr>\n",
       "      <th>2</th>\n",
       "      <td>C0003</td>\n",
       "      <td>2725.38</td>\n",
       "      <td>14</td>\n",
       "      <td>False</td>\n",
       "      <td>False</td>\n",
       "      <td>True</td>\n",
       "      <td>False</td>\n",
       "      <td>False</td>\n",
       "      <td>True</td>\n",
       "    </tr>\n",
       "    <tr>\n",
       "      <th>3</th>\n",
       "      <td>C0004</td>\n",
       "      <td>5354.88</td>\n",
       "      <td>23</td>\n",
       "      <td>False</td>\n",
       "      <td>False</td>\n",
       "      <td>True</td>\n",
       "      <td>False</td>\n",
       "      <td>False</td>\n",
       "      <td>False</td>\n",
       "    </tr>\n",
       "    <tr>\n",
       "      <th>4</th>\n",
       "      <td>C0005</td>\n",
       "      <td>2034.24</td>\n",
       "      <td>7</td>\n",
       "      <td>False</td>\n",
       "      <td>False</td>\n",
       "      <td>False</td>\n",
       "      <td>False</td>\n",
       "      <td>True</td>\n",
       "      <td>False</td>\n",
       "    </tr>\n",
       "  </tbody>\n",
       "</table>\n",
       "</div>"
      ],
      "text/plain": [
       "  CustomerID  TotalValue  Quantity  Region_Europe  Region_North America  \\\n",
       "0      C0001     3354.52        12          False                 False   \n",
       "1      C0002     1862.74        10          False                 False   \n",
       "2      C0003     2725.38        14          False                 False   \n",
       "3      C0004     5354.88        23          False                 False   \n",
       "4      C0005     2034.24         7          False                 False   \n",
       "\n",
       "   Region_South America  Category_Clothing  Category_Electronics  \\\n",
       "0                  True              False                  True   \n",
       "1                 False               True                 False   \n",
       "2                  True              False                 False   \n",
       "3                  True              False                 False   \n",
       "4                 False              False                  True   \n",
       "\n",
       "   Category_Home Decor  \n",
       "0                False  \n",
       "1                False  \n",
       "2                 True  \n",
       "3                False  \n",
       "4                False  "
      ]
     },
     "execution_count": 32,
     "metadata": {},
     "output_type": "execute_result"
    }
   ],
   "source": [
    "# One-hot encode categorical features (Region, Category)\n",
    "customer_features = pd.get_dummies(customer_features, columns=['Region', 'Category'], drop_first=True)\n",
    "\n",
    "customer_features.head()"
   ]
  },
  {
   "cell_type": "code",
   "execution_count": 34,
   "id": "a6dcdfbb-f4be-4ffe-b8e3-088403750017",
   "metadata": {},
   "outputs": [],
   "source": [
    "# Scaling the features for similarity computation\n",
    "scaler = StandardScaler()\n",
    "scaled_features = scaler.fit_transform(customer_features.drop(columns=['CustomerID']))"
   ]
  },
  {
   "cell_type": "code",
   "execution_count": 42,
   "id": "58da014d-8134-4f9e-974c-86b8fc53cffc",
   "metadata": {},
   "outputs": [],
   "source": [
    "# Computing similarity matrix using cosine similarity\n",
    "similarity_matrix = cosine_similarity(scaled_features)"
   ]
  },
  {
   "cell_type": "code",
   "execution_count": 44,
   "id": "00584585-169e-4a29-8902-f81c222a9d6f",
   "metadata": {},
   "outputs": [],
   "source": [
    "# Find top 3 lookalikes for the first 20 customers\n",
    "lookalike_results = {}\n",
    "\n",
    "for idx in range(20):  # Looping through the first 20 customers\n",
    "    customer_id = customer_features.iloc[idx]['CustomerID']\n",
    "    similarities = list(enumerate(similarity_matrix[idx]))\n",
    "    similarities = sorted(similarities, key=lambda x: x[1], reverse=True)  # Sorting by similarity score\n",
    "    top_lookalikes = [\n",
    "        (customer_features.iloc[i]['CustomerID'], round(score, 4))\n",
    "        for i, score in similarities[1:4]  # Excluding the customer themselves\n",
    "    ]\n",
    "    lookalike_results[customer_id] = top_lookalikes"
   ]
  },
  {
   "cell_type": "code",
   "execution_count": 48,
   "id": "39fbd454-713b-495f-a8a9-f58897d165a5",
   "metadata": {},
   "outputs": [
    {
     "name": "stdout",
     "output_type": "stream",
     "text": [
      "Lookalike.csv has been created successfully!\n"
     ]
    }
   ],
   "source": [
    "# Create the Lookalike.csv file\n",
    "lookalike_data = []\n",
    "\n",
    "for cust_id, lookalikes in lookalike_results.items():\n",
    "    for similar_cust, score in lookalikes:\n",
    "        lookalike_data.append({\n",
    "            \"CustomerID\": cust_id,\n",
    "            \"SimilarCustomerID\": similar_cust,\n",
    "            \"SimilarityScore\": score\n",
    "        })\n",
    "\n",
    "lookalike_df = pd.DataFrame(lookalike_data)\n",
    "lookalike_df.to_csv('Lookalike.csv', index=False)  # Save the results to Lookalike.csv\n",
    "\n",
    "print(\"Lookalike.csv has been created successfully!\")"
   ]
  },
  {
   "cell_type": "markdown",
   "id": "3d8ed943-51a7-4c51-95b1-7c22d07e84fc",
   "metadata": {},
   "source": [
    "# Calculating accuracy metrics of this model"
   ]
  },
  {
   "cell_type": "code",
   "execution_count": 55,
   "id": "883bc115-bf7f-494d-94d0-b1b06b806c52",
   "metadata": {},
   "outputs": [],
   "source": [
    "true_similarity_matrix = cosine_similarity(scaled_features)\n",
    "threshold = 0.8              # Defining a threshold to classify \"similar\" customers\n",
    "binary_recommendations = (similarity_matrix > threshold).astype(int)   # Converting recommendations and similarity scores into a binary form for evaluation"
   ]
  },
  {
   "cell_type": "code",
   "execution_count": 57,
   "id": "612eda5f-8488-49e7-b03c-bb0bbfb25d78",
   "metadata": {},
   "outputs": [],
   "source": [
    "# Lists to store precision, recall, and F1-score for each customer\n",
    "precision_list = []\n",
    "recall_list = []\n",
    "f1_list = []\n",
    "mse_list = []"
   ]
  },
  {
   "cell_type": "code",
   "execution_count": 59,
   "id": "b92b99d2-989a-41cc-8fdc-daab78795ced",
   "metadata": {},
   "outputs": [],
   "source": [
    "# Evaluating the recommendations for the first 20 customers\n",
    "for idx in range(20):\n",
    "    # Extracting the true similarity vector and predicted similarity vector for this customer\n",
    "    true_similarities = true_similarity_matrix[idx]\n",
    "    predicted_similarities = similarity_matrix[idx]\n",
    "    \n",
    "    # Binarizing true and predicted similarities using the threshold defined above\n",
    "    true_binary = (true_similarities > threshold).astype(int)\n",
    "    predicted_binary = (predicted_similarities > threshold).astype(int)\n",
    "    \n",
    "    # Excluding self-similarity (diagonal)\n",
    "    true_binary[idx] = 0\n",
    "    predicted_binary[idx] = 0\n",
    "    \n",
    "    # Calculating precision, recall, and F1-score for this customer\n",
    "    precision_list.append(precision_score(true_binary, predicted_binary, zero_division=0))\n",
    "    recall_list.append(recall_score(true_binary, predicted_binary, zero_division=0))\n",
    "    f1_list.append(f1_score(true_binary, predicted_binary, zero_division=0))\n",
    "    mse_list.append(mean_squared_error(true_similarities, predicted_similarities))"
   ]
  },
  {
   "cell_type": "code",
   "execution_count": 61,
   "id": "c10ac0f8-9151-4355-b837-ce8baede4fd2",
   "metadata": {},
   "outputs": [],
   "source": [
    "# Calculate average metrics across the first 20 customers\n",
    "average_precision = np.mean(precision_list)\n",
    "average_recall = np.mean(recall_list)\n",
    "average_f1 = np.mean(f1_list)\n",
    "average_mse = np.mean(mse_list)"
   ]
  },
  {
   "cell_type": "code",
   "execution_count": 63,
   "id": "89830719-951c-49e6-b240-e0241a4e9db4",
   "metadata": {},
   "outputs": [
    {
     "name": "stdout",
     "output_type": "stream",
     "text": [
      "Model Evaluation Metrics:\n",
      "Average Precision: 1.0000\n",
      "Average Recall: 1.0000\n",
      "Average F1-Score: 1.0000\n",
      "Average Mean Squared Error (MSE): 0.0000\n"
     ]
    }
   ],
   "source": [
    "# Printing the evaluation metrics\n",
    "print(\"Model Evaluation Metrics:\")\n",
    "print(f\"Average Precision: {average_precision:.4f}\")\n",
    "print(f\"Average Recall: {average_recall:.4f}\")\n",
    "print(f\"Average F1-Score: {average_f1:.4f}\")\n",
    "print(f\"Average Mean Squared Error (MSE): {average_mse:.4f}\")"
   ]
  }
 ],
 "metadata": {
  "kernelspec": {
   "display_name": "Python [conda env:base] *",
   "language": "python",
   "name": "conda-base-py"
  },
  "language_info": {
   "codemirror_mode": {
    "name": "ipython",
    "version": 3
   },
   "file_extension": ".py",
   "mimetype": "text/x-python",
   "name": "python",
   "nbconvert_exporter": "python",
   "pygments_lexer": "ipython3",
   "version": "3.12.7"
  }
 },
 "nbformat": 4,
 "nbformat_minor": 5
}
